{
 "cells": [
  {
   "cell_type": "code",
   "execution_count": 1,
   "id": "a00e4c1a-16b5-4400-9e35-cda8d82c0966",
   "metadata": {},
   "outputs": [],
   "source": [
    "class Student:\n",
    "    def __init__(self, name, age, student_id, courses):\n",
    "        self._name = name\n",
    "        self._age = age\n",
    "        self._student_id = student_id\n",
    "        self._courses = courses\n",
    "\n",
    "    # Getters\n",
    "    def get_name(self):\n",
    "        return self._name\n",
    "\n",
    "    def get_age(self):\n",
    "        return self._age\n",
    "\n",
    "    def get_student_id(self):\n",
    "        return self._student_id\n",
    "\n",
    "    def get_courses(self):\n",
    "        return self._courses\n",
    "\n",
    "    # Setters\n",
    "    def set_name(self, name):\n",
    "        self._name = name\n",
    "\n",
    "    def set_age(self, age):\n",
    "        self._age = age\n",
    "\n",
    "    def set_student_id(self, student_id):\n",
    "        self._student_id = student_id\n",
    "\n",
    "    def set_courses(self, courses):\n",
    "        self._courses = courses\n",
    "\n",
    "    # Method to calculate GPA\n",
    "    def calculate_gpa(self, grades):\n",
    "        try:\n",
    "            return sum(grades) / len(grades)\n",
    "        except ZeroDivisionError:\n",
    "            return 0\n"
   ]
  },
  {
   "cell_type": "code",
   "execution_count": 3,
   "id": "c74f5beb-f438-4d8c-903f-09464e1bdd0e",
   "metadata": {},
   "outputs": [
    {
     "name": "stdout",
     "output_type": "stream",
     "text": [
      "Student Name: Alice\n",
      "Student Age: 23\n",
      "Student ID: S123\n",
      "Courses: ['Math', 'Science', 'History']\n",
      "\n",
      "Updated Information:\n",
      "Student Name: Alice Cooper\n",
      "Student Age: 24\n",
      "Courses: ['Math', 'Physics', 'Chemistry']\n",
      "\n",
      "GPA: 87.66666666666667\n"
     ]
    }
   ],
   "source": [
    "# Create a Student object\n",
    "student = Student(\"Alice\", 23, \"S123\", [\"Math\", \"Science\", \"History\"])\n",
    "\n",
    "# Use getters\n",
    "print(\"Student Name:\", student.get_name())\n",
    "print(\"Student Age:\", student.get_age())\n",
    "print(\"Student ID:\", student.get_student_id())\n",
    "print(\"Courses:\", student.get_courses())\n",
    "\n",
    "# Set new values using setters\n",
    "student.set_name(\"Alice Cooper\")\n",
    "student.set_age(24)\n",
    "student.set_courses([\"Math\", \"Physics\", \"Chemistry\"])\n",
    "\n",
    "# Use getters again to check updated values\n",
    "print(\"\\nUpdated Information:\")\n",
    "print(\"Student Name:\", student.get_name())\n",
    "print(\"Student Age:\", student.get_age())\n",
    "print(\"Courses:\", student.get_courses())\n",
    "\n",
    "# Calculate GPA\n",
    "grades = [90, 85, 88]\n",
    "print(\"\\nGPA:\", student.calculate_gpa(grades))\n"
   ]
  },
  {
   "cell_type": "code",
   "execution_count": 5,
   "id": "3240d242-5a6f-44e1-81da-c39304ecdb63",
   "metadata": {},
   "outputs": [],
   "source": [
    "class GraduateStudent(Student):\n",
    "    def __init__(self, name, age, student_id, courses, thesis_title):\n",
    "        super().__init__(name, age, student_id, courses)\n",
    "        self.thesis_title = thesis_title\n",
    "\n",
    "    # Overriding __str__ method to display all attributes\n",
    "    def __str__(self):\n",
    "        return f\"Name: {self.get_name()}, Age: {self.get_age()}, ID: {self.get_student_id()}, Courses: {self.get_courses()}, Thesis: {self.thesis_title}\"\n"
   ]
  },
  {
   "cell_type": "code",
   "execution_count": 7,
   "id": "03eb3134-edb5-49a3-90d0-01fcd0acf28a",
   "metadata": {},
   "outputs": [
    {
     "name": "stdout",
     "output_type": "stream",
     "text": [
      "Name: Bob, Age: 25, ID: S124, Courses: ['AI', 'Machine Learning'], Thesis: AI in Healthcare\n",
      "\n",
      "Graduate Student GPA: 92.0\n"
     ]
    }
   ],
   "source": [
    "# Create a GraduateStudent object\n",
    "grad_student = GraduateStudent(\"Bob\", 25, \"S124\", [\"AI\", \"Machine Learning\"], \"AI in Healthcare\")\n",
    "\n",
    "# Print the graduate student's details\n",
    "print(grad_student)\n",
    "\n",
    "# Calculate GPA for the graduate student\n",
    "grades = [92, 89, 95]\n",
    "print(\"\\nGraduate Student GPA:\", grad_student.calculate_gpa(grades))\n"
   ]
  },
  {
   "cell_type": "code",
   "execution_count": null,
   "id": "6a1d30b1-cce5-4877-814d-af098ade66b7",
   "metadata": {},
   "outputs": [],
   "source": []
  }
 ],
 "metadata": {
  "kernelspec": {
   "display_name": "Python [conda env:base] *",
   "language": "python",
   "name": "conda-base-py"
  },
  "language_info": {
   "codemirror_mode": {
    "name": "ipython",
    "version": 3
   },
   "file_extension": ".py",
   "mimetype": "text/x-python",
   "name": "python",
   "nbconvert_exporter": "python",
   "pygments_lexer": "ipython3",
   "version": "3.12.7"
  }
 },
 "nbformat": 4,
 "nbformat_minor": 5
}
