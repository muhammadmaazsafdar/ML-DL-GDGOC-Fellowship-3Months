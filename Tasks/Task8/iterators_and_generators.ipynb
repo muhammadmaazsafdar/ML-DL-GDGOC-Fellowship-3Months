{
 "cells": [
  {
   "cell_type": "code",
   "execution_count": 2,
   "id": "6bf2c4e7-151b-4c38-8b6a-1cc3e3b01638",
   "metadata": {},
   "outputs": [
    {
     "name": "stdout",
     "output_type": "stream",
     "text": [
      "List of Students:\n",
      "Alice\n",
      "Bob\n",
      "Charlie\n",
      "David\n",
      "Eve\n"
     ]
    }
   ],
   "source": [
    "# Iterator Class: StudentList\n",
    "class StudentList:\n",
    "    def __init__(self, students):\n",
    "        # Initialize with a list of students\n",
    "        self.students = students\n",
    "        self.index = 0  # Start from the first student\n",
    "\n",
    "    def __iter__(self):\n",
    "        # This method makes the class an iterator\n",
    "        return self\n",
    "\n",
    "    def __next__(self):\n",
    "        # This method returns the next student and updates the index\n",
    "        if self.index < len(self.students):\n",
    "            student = self.students[self.index]\n",
    "            self.index += 1\n",
    "            return student\n",
    "        else:\n",
    "            raise StopIteration  # This stops the iteration when all students are iterated\n",
    "\n",
    "# Create an object of StudentList\n",
    "students = [\"Alice\", \"Bob\", \"Charlie\", \"David\", \"Eve\"]\n",
    "student_iterator = StudentList(students)\n",
    "\n",
    "# Use the iterator to print each student\n",
    "print(\"List of Students:\")\n",
    "for student in student_iterator:\n",
    "    print(student)\n"
   ]
  },
  {
   "cell_type": "code",
   "execution_count": 4,
   "id": "728b27ab-6b25-4ab0-880f-6eec4955ccc4",
   "metadata": {},
   "outputs": [
    {
     "name": "stdout",
     "output_type": "stream",
     "text": [
      "Random Marks for 5 Students:\n",
      "20\n",
      "51\n",
      "99\n",
      "46\n",
      "94\n"
     ]
    }
   ],
   "source": [
    "import random\n",
    "\n",
    "# Generator function to yield random marks between 0 and 100\n",
    "def random_marks_generator(num_students):\n",
    "    for _ in range(num_students):\n",
    "        yield random.randint(0, 100)  # Yield a random mark between 0 and 100\n",
    "\n",
    "# Create a generator object\n",
    "marks_gen = random_marks_generator(5)  # Generating random marks for 5 students\n",
    "\n",
    "# Use the generator in a loop to print random marks\n",
    "print(\"Random Marks for 5 Students:\")\n",
    "for mark in marks_gen:\n",
    "    print(mark)\n"
   ]
  },
  {
   "cell_type": "code",
   "execution_count": null,
   "id": "071f5a98-fe54-47f6-9af2-a23ff116c87d",
   "metadata": {},
   "outputs": [],
   "source": []
  }
 ],
 "metadata": {
  "kernelspec": {
   "display_name": "Python [conda env:base] *",
   "language": "python",
   "name": "conda-base-py"
  },
  "language_info": {
   "codemirror_mode": {
    "name": "ipython",
    "version": 3
   },
   "file_extension": ".py",
   "mimetype": "text/x-python",
   "name": "python",
   "nbconvert_exporter": "python",
   "pygments_lexer": "ipython3",
   "version": "3.12.7"
  }
 },
 "nbformat": 4,
 "nbformat_minor": 5
}
